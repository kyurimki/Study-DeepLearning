{
 "cells": [
  {
   "cell_type": "markdown",
   "metadata": {},
   "source": [
    "# 3.6 손글씨 숫자 인식\n",
    "## 3.6.1 MNIST 데이터셋\n",
    "- 손글씨 숫자 이미지 집합\n",
    "- 0-9 숫자 이미지로 구성\n",
    "- 훈련 이미지(for 모델 학습) 60000장, 시험 이미지(for 학습한 모델로 시험 이미지를 얼마나 정확하게 분류하는가 판별) 10000장"
   ]
  },
  {
   "cell_type": "code",
   "execution_count": 1,
   "metadata": {},
   "outputs": [],
   "source": [
    "import sys, os\n",
    "sys.path.append(os.pardir)  # 부모 디렉토리 파일을 가져올 수 있도록 설정\n",
    "from dataset.mnist import load_mnist\n",
    "\n",
    "(x_train, t_train), (x_test, t_test) = load_mnist(flatten=True, normalize=False)"
   ]
  },
  {
   "cell_type": "code",
   "execution_count": 2,
   "metadata": {},
   "outputs": [
    {
     "name": "stdout",
     "output_type": "stream",
     "text": [
      "(60000, 784)\n",
      "(60000,)\n",
      "(10000, 784)\n",
      "(10000,)\n"
     ]
    }
   ],
   "source": [
    "print(x_train.shape)\n",
    "print(t_train.shape)\n",
    "print(x_test.shape)\n",
    "print(t_test.shape)"
   ]
  },
  {
   "cell_type": "markdown",
   "metadata": {},
   "source": [
    "- `load_mnist()`: MNIST 데이터를 (훈련 이미지, 훈련 레이블), (시험 이미지, 시험 레이블) 형식으로 변환\n",
    "    - normalize: 입력 이미지의 픽셀 값을 [0.0, 1.0] 값으로 정규화할 것인가\n",
    "    - flatten: 입력 이미지를 1차원 배열로 만들 것인지\n",
    "    - one_hot_label: label을 one-hot encoding 형태로 저장할지"
   ]
  },
  {
   "cell_type": "code",
   "execution_count": 3,
   "metadata": {},
   "outputs": [
    {
     "name": "stdout",
     "output_type": "stream",
     "text": [
      "5\n",
      "(784,)\n",
      "(28, 28)\n"
     ]
    }
   ],
   "source": [
    "import numpy as np\n",
    "from PIL import Image  # PIL: Python Image Library\n",
    "\n",
    "def img_show(img):\n",
    "    pil_img = Image.fromarray(np.uint8(img))\n",
    "    pil_img.show()\n",
    "\n",
    "(x_train, t_train), (x_test, t_test) = load_mnist(flatten=True, normalize=False)\n",
    "\n",
    "img = x_train[0]\n",
    "label = t_train[0]\n",
    "print(label)\n",
    "\n",
    "print(img.shape)\n",
    "img = img.reshape(28, 28)  # 원래 이미지의 모양으로 변형\n",
    "print(img.shape)\n",
    "\n",
    "img_show(img)"
   ]
  },
  {
   "cell_type": "markdown",
   "metadata": {},
   "source": [
    "- `flatten=True`이므로 이미지는 1차원 넘파이 배열로 저장 -> 이미지 표시할 때 28 * 28 크기로 다시 변형해야 함. -> `reshape()`로 넘파이 배열의 형상을 바꿀 수 있음\n",
    "- `Image.fromarray()`: 넘파이로 저장된 이미지 데이터를 PIL용 데이터 객체로 변환"
   ]
  },
  {
   "cell_type": "markdown",
   "metadata": {},
   "source": [
    "### 3.6.2 신경망의 추론 처리\n",
    "- 입력층 뉴런 784(=28 * 28)개, 출력층 뉴런 10개, 은닉층 2개(1번째 은닉층 뉴런 50개, 2번째 은닉층 뉴런 100개)인 신경망"
   ]
  },
  {
   "cell_type": "code",
   "execution_count": 4,
   "metadata": {},
   "outputs": [],
   "source": [
    "def sigmoid(x):\n",
    "    return 1 / (1 + np.exp(-x))\n",
    "\n",
    "def softmax(a):\n",
    "    c = np.max(a)\n",
    "    \n",
    "    exp_a = np.exp(a-c)\n",
    "    sum_exp_a = np.sum(exp_a)\n",
    "    y = exp_a / sum_exp_a\n",
    "\n",
    "    return y"
   ]
  },
  {
   "cell_type": "code",
   "execution_count": 5,
   "metadata": {},
   "outputs": [],
   "source": [
    "import pickle\n",
    "\n",
    "def get_data():\n",
    "    (x_train, t_train), (x_test, t_test) = load_mnist(normalize=True, flatten=True, one_hot_label=False)\n",
    "    return x_test, t_test\n",
    "\n",
    "def init_network():\n",
    "    with open(\"dataset/sample_weight.pkl\", 'rb') as f:\n",
    "        network = pickle.load(f)\n",
    "    \n",
    "    return network\n",
    "\n",
    "def predict(network, x):\n",
    "    W1, W2, W3 = network['W1'], network['W2'], network['W3']\n",
    "    b1, b2, b3 = network['b1'], network['b2'], network['b3']\n",
    "    \n",
    "    a1 = np.dot(x, W1) + b1\n",
    "    z1 = sigmoid(a1)\n",
    "    a2 = np.dot(z1, W2) + b2\n",
    "    z2 = sigmoid(a2)\n",
    "    a3 = np.dot(z2, W3) + b3\n",
    "    y = softmax(a3)\n",
    "    \n",
    "    return y"
   ]
  },
  {
   "cell_type": "markdown",
   "metadata": {},
   "source": [
    "- `init_network()`: sample_weight.pkl(가중치와 편향 매개변수가 딕셔너리로 저장)에 저장된 학습된 가중치 매개변수 읽어들이기"
   ]
  },
  {
   "cell_type": "code",
   "execution_count": 6,
   "metadata": {},
   "outputs": [
    {
     "name": "stdout",
     "output_type": "stream",
     "text": [
      "Accuracy: 0.9352\n"
     ]
    }
   ],
   "source": [
    "x, t = get_data()\n",
    "network = init_network()\n",
    "\n",
    "accuracy_cnt = 0\n",
    "for i in range(len(x)):\n",
    "    y = predict(network, x[i])\n",
    "    p = np.argmax(y)  # 확률이 가장 높은 원소의 인덱스\n",
    "    if p == t[i]:\n",
    "        accuracy_cnt += 1\n",
    "\n",
    "print(\"Accuracy: \" + str(float(accuracy_cnt) / len(x)))"
   ]
  },
  {
   "cell_type": "markdown",
   "metadata": {},
   "source": [
    "- `predict()`: 각 레이블의 확률을 넘파이 배열로 반환\n",
    "- `np.argmax()`: 배열에서 최대값(가장 높은 확률)의 원소의 인덱스 반환 -> 예측 결과\n",
    "- `accuracy_cnt`: 신경망이 예측한 답변과 정답 레이블 비교해 맞힌 횟수 세기 -> 전체 이미지 숫자로 나눠 정확도 구하기\n",
    "\n",
    "- 정규화(normalization): 데이터를 특정 범위로 변환하는 처리\n",
    "- 전처리(pre-processing): 신경망의 입력 데이터에 특정 변환을 가하는 것"
   ]
  },
  {
   "cell_type": "markdown",
   "metadata": {},
   "source": [
    "### 3.6.3 배치(Batch) 처리"
   ]
  },
  {
   "cell_type": "code",
   "execution_count": 7,
   "metadata": {},
   "outputs": [
    {
     "name": "stdout",
     "output_type": "stream",
     "text": [
      "(10000, 784)\n",
      "(784,)\n",
      "(784, 50)\n",
      "(50, 100)\n",
      "(100, 10)\n"
     ]
    }
   ],
   "source": [
    "# 구현한 신경망 각 층의 가중치 형상 출력\n",
    "x, _ = get_data()\n",
    "network = init_network()\n",
    "W1, W2, W3 = network['W1'], network['W2'], network['W3']\n",
    "\n",
    "print(x.shape)\n",
    "print(x[0].shape)\n",
    "print(W1.shape)\n",
    "print(W2.shape)\n",
    "print(W3.shape)"
   ]
  },
  {
   "cell_type": "markdown",
   "metadata": {},
   "source": [
    "- 다차원 배열에서 대응하는 차원의 원소 수가 일치함\n",
    "\n",
    "![신경망 각 층의 배열 형상 추이](https://user-images.githubusercontent.com/61455647/114272320-b0405780-9a50-11eb-9ad5-070957962491.png)\n",
    "\n",
    "- 데이터 1장만 입력했을 때, 입력: 원소 784(=28 * 28)개로 구성된 1차원 배열 | 출력: 원소 10개인 1차원 배열\n",
    "\n",
    "![배치 처리를 위한 배열들의 형상 추이](https://user-images.githubusercontent.com/61455647/114272469-47a5aa80-9a51-11eb-8ca1-839b5cc6f544.png)\n",
    "\n",
    "- 이미지 100개일 때, 입력: 100 * 784개 | 출력: 100 * 10개\n",
    "- **배치 Batch**: 하나로 묶은 입력 데이터\n",
    "- 배치 처리의 장점: 이미지 1장당 처리 시간 ↓\n",
    "    - 이유1. 수치 계산 라이브러리는 큰 배열을 효율적으로 처리할 수 있도록 최적화 되어 있음\n",
    "    - 이유2. I/O로 데이터를 읽는 횟수가 줄어 배치 처리로 버스에 부하를 줄일 수 있음"
   ]
  },
  {
   "cell_type": "code",
   "execution_count": 8,
   "metadata": {},
   "outputs": [
    {
     "name": "stdout",
     "output_type": "stream",
     "text": [
      "Accuracy: 0.9352\n"
     ]
    }
   ],
   "source": [
    "# 배치 처리 구현\n",
    "x, t = get_data()\n",
    "network = init_network()\n",
    "\n",
    "batch_size = 100  # 배치 크기\n",
    "accuracy_cnt = 0\n",
    "\n",
    "for i in range(0, len(x), batch_size):\n",
    "    x_batch = x[i:i+batch_size]\n",
    "    y_batch = predict(network, x_batch)\n",
    "    p = np.argmax(y_batch, axis=1)\n",
    "    accuracy_cnt += np.sum(p == t[i:i+batch_size])\n",
    "    \n",
    "print(\"Accuracy: \" + str(float(accuracy_cnt) / len(x)))"
   ]
  },
  {
   "cell_type": "markdown",
   "metadata": {},
   "source": [
    "- `range(start, end, step)`: start~end-1까지 step 간격으로 증가하는 리스트 반환\n",
    "- `x[i:i+batch_size]`: 입력 데이터의 i번째~i+batch_size번째의 데이터 묶기\n",
    "- `argmax(, axis=1)`: 100 * 10 배열 중 1번째 차원을 구성하는 각 원소에서 최대값의 인덱스\n",
    "- `accuracy_cnt += np.sum(p == t[i:i+batch_size])`: 배치 단위로 분류한 결과와 실제 답을 비교 -> bool 배열에서 True 개수 세서 반환"
   ]
  },
  {
   "cell_type": "code",
   "execution_count": 9,
   "metadata": {},
   "outputs": [
    {
     "name": "stdout",
     "output_type": "stream",
     "text": [
      "[3 0 1]\n",
      "[1 2 1 0]\n"
     ]
    }
   ],
   "source": [
    "# argmax(, axis=) 예시\n",
    "x = np.array([[0.1, 0.8, 0.1], [0.3, 0.1, 0.6], [0.2, 0.5, 0.3], [0.8, 0.1, 0.1]])\n",
    "y = np.argmax(x, axis=0)\n",
    "print(y)\n",
    "y = np.argmax(x, axis=1)\n",
    "print(y)"
   ]
  },
  {
   "cell_type": "markdown",
   "metadata": {},
   "source": [
    "- 데이터를 배치로 처리해 효율적이고 빠르게 처리할 수 있음"
   ]
  }
 ],
 "metadata": {
  "kernelspec": {
   "display_name": "Python 3",
   "language": "python",
   "name": "python3"
  },
  "language_info": {
   "codemirror_mode": {
    "name": "ipython",
    "version": 3
   },
   "file_extension": ".py",
   "mimetype": "text/x-python",
   "name": "python",
   "nbconvert_exporter": "python",
   "pygments_lexer": "ipython3",
   "version": "3.7.6"
  }
 },
 "nbformat": 4,
 "nbformat_minor": 4
}
