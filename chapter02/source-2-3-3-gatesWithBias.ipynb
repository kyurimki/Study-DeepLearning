{
 "cells": [
  {
   "cell_type": "code",
   "execution_count": 1,
   "metadata": {},
   "outputs": [],
   "source": [
    "import numpy as np\n",
    "\n",
    "def AND(x1, x2):\n",
    "    x = np.array([x1, x2])\n",
    "    w = np.array([0.5, 0.5])\n",
    "    b = -0.7\n",
    "    tmp = np.sum(w*x) + b\n",
    "    if tmp <= 0:\n",
    "        return 0\n",
    "    else:\n",
    "        return 1\n",
    "\n",
    "def NAND(x1, x2):\n",
    "    x = np.array([x1, x2])\n",
    "    w = np.array([-0.5, -0.5])\n",
    "    b = 0.7\n",
    "    tmp = np.sum(w*x) + b\n",
    "    if tmp <= 0:\n",
    "        return 0\n",
    "    else:\n",
    "        return 1\n",
    "\n",
    "def OR(x1, x2):\n",
    "    x = np.array([x1, x2])\n",
    "    w = np.array([0.5, 0.5])\n",
    "    b = -0.2\n",
    "    tmp = np.sum(w*x) + b\n",
    "    if tmp <= 0:\n",
    "        return 0\n",
    "    else:\n",
    "        return 1\n",
    "\n",
    "def printResult(x1, x2, y1, y2, y3):\n",
    "    print(\"AND(\"+str(x1)+\", \"+str(x2)+\") = \"+str(AND(x1, x2))+ \", NAND(\"+str(x1)+\", \"+str(x2)+\") = \"+str(NAND(x1, x2))+\", OR(\"+str(x1)+\", \"+str(x2)+\") = \"+str(OR(x1, x2)))"
   ]
  },
  {
   "cell_type": "code",
   "execution_count": 2,
   "metadata": {},
   "outputs": [
    {
     "name": "stdout",
     "output_type": "stream",
     "text": [
      "AND(0, 0) = 0, NAND(0, 0) = 1, OR(0, 0) = 0\n",
      "AND(1, 0) = 0, NAND(1, 0) = 1, OR(1, 0) = 1\n",
      "AND(0, 1) = 0, NAND(0, 1) = 1, OR(0, 1) = 1\n",
      "AND(1, 1) = 1, NAND(1, 1) = 0, OR(1, 1) = 1\n"
     ]
    }
   ],
   "source": [
    "printResult(0, 0, AND(0, 0), NAND(0, 0), OR(0, 0))\n",
    "printResult(1, 0, AND(1, 0), NAND(1, 0), OR(0, 0))\n",
    "printResult(0, 1, AND(0, 1), NAND(0, 1), OR(0, 1))\n",
    "printResult(1, 1, AND(1, 1), NAND(1, 1), OR(1, 1))"
   ]
  }
 ],
 "metadata": {
  "kernelspec": {
   "display_name": "Python 3",
   "language": "python",
   "name": "python3"
  },
  "language_info": {
   "codemirror_mode": {
    "name": "ipython",
    "version": 3
   },
   "file_extension": ".py",
   "mimetype": "text/x-python",
   "name": "python",
   "nbconvert_exporter": "python",
   "pygments_lexer": "ipython3",
   "version": "3.7.6"
  }
 },
 "nbformat": 4,
 "nbformat_minor": 4
}
